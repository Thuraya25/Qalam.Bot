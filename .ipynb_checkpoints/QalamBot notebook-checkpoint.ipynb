{
 "cells": [
  {
   "cell_type": "code",
   "execution_count": 1,
   "id": "94f6f354-7719-49b3-bd15-3e37e671bb67",
   "metadata": {},
   "outputs": [],
   "source": [
    "import logging\n",
    "\n",
    "# Set up logging at the beginning of your script\n",
    "logging.basicConfig(filename='bot.log', level=logging.DEBUG,\n",
    "                    format='%(asctime)s - %(levelname)s - %(message)s')\n",
    "\n",
    "# Then, you can log something\n",
    "logging.debug(\"Bot has started\")\n"
   ]
  },
  {
   "cell_type": "code",
   "execution_count": 2,
   "id": "652b4b2d-72d4-4d20-b990-dd82c6932c8c",
   "metadata": {},
   "outputs": [],
   "source": [
    "#import all necessary libraries \n",
    "import os\n",
    "import asyncio\n",
    "import nest_asyncio\n",
    "from datetime import datetime\n",
    "from dotenv import load_dotenv\n",
    "from telegram import Update\n",
    "from telegram.ext import Application, CommandHandler, MessageHandler, filters, ContextTypes\n",
    "from telegram.constants import ParseMode\n",
    "import language_tool_python\n",
    "import nltk\n",
    "from nltk.corpus import wordnet\n",
    "from nltk.corpus import wordnet as wn\n",
    "from nltk.corpus import stopwords\n",
    "from nltk.corpus import words\n",
    "import pytz\n",
    "from datetime import datetime\n",
    "from telegram import Bot\n",
    "import nest_asyncio\n",
    "import language_tool_python\n",
    "\n"
   ]
  },
  {
   "cell_type": "code",
   "execution_count": 3,
   "id": "04332377-6ee6-4004-9b9a-3a4c983f126d",
   "metadata": {},
   "outputs": [
    {
     "data": {
      "text/plain": [
       "True"
      ]
     },
     "execution_count": 3,
     "metadata": {},
     "output_type": "execute_result"
    }
   ],
   "source": [
    "#print(nltk.data.path)\n",
    "nltk.download(['punkt', 'wordnet', 'omw-1.4'], quiet=True)\n"
   ]
  },
  {
   "cell_type": "code",
   "execution_count": 4,
   "id": "834f9ed6-8815-45cb-8f43-5379d4edfb9e",
   "metadata": {},
   "outputs": [],
   "source": [
    "#nltk.data.path.append(r'C:\\Users\\thura\\AppData\\Roaming\\nltk_data')"
   ]
  },
  {
   "cell_type": "code",
   "execution_count": 5,
   "id": "cf07fd87-0e56-4dce-86e7-92cacdf04f73",
   "metadata": {},
   "outputs": [
    {
     "name": "stdout",
     "output_type": "stream",
     "text": [
      "['a', 'about', 'above', 'after', 'again', 'against', 'ain', 'all', 'am', 'an']\n"
     ]
    }
   ],
   "source": [
    "\n",
    "# Load the stopwords corpus\n",
    "stop_words = stopwords.words('english')\n",
    "print(stop_words[:10])  # Print the first 10 stopwords\n"
   ]
  },
  {
   "cell_type": "code",
   "execution_count": 6,
   "id": "55464ade-dae6-4c04-ad3c-a1a23518f2c3",
   "metadata": {},
   "outputs": [
    {
     "name": "stdout",
     "output_type": "stream",
     "text": [
      "['A', 'a', 'aa', 'aal', 'aalii', 'aam', 'Aani', 'aardvark', 'aardwolf', 'Aaron']\n"
     ]
    }
   ],
   "source": [
    "# Get a list of English words\n",
    "english_words = words.words()\n",
    "print(english_words[:10])  # Print the first 10 words\n"
   ]
  },
  {
   "cell_type": "code",
   "execution_count": 8,
   "id": "ccb1aa4f-b68f-462e-b45b-98455519065b",
   "metadata": {},
   "outputs": [
    {
     "name": "stdout",
     "output_type": "stream",
     "text": [
      "[Synset('dog.n.01'), Synset('frump.n.01'), Synset('dog.n.03'), Synset('cad.n.01'), Synset('frank.n.02'), Synset('pawl.n.01'), Synset('andiron.n.01'), Synset('chase.v.01')]\n",
      "['a', 'about', 'above', 'after', 'again', 'against', 'ain', 'all', 'am', 'an']\n"
     ]
    }
   ],
   "source": [
    "\n",
    "# Load some wordnet synsets in English\n",
    "synsets = wn.synsets(\"dog\")\n",
    "print(synsets)\n",
    "\n",
    "# Use stopwords corpus\n",
    "stop_words = stopwords.words('english')\n",
    "print(stop_words[:10])  # First 10 stopwords\n",
    "\n"
   ]
  },
  {
   "cell_type": "code",
   "execution_count": 9,
   "id": "32dfede9-859c-4115-866b-0b3a940c5f9f",
   "metadata": {},
   "outputs": [],
   "source": [
    "# Apply nest_asyncio to avoid event loop conflicts in Jupyter Notebook\n",
    "nest_asyncio.apply()"
   ]
  },
  {
   "cell_type": "code",
   "execution_count": 11,
   "id": "0185c787-e06c-4eac-8839-db8fe09ac7ec",
   "metadata": {},
   "outputs": [],
   "source": [
    "# Load environment variables\n",
    "load_dotenv()\n",
    "TOKEN = os.getenv('TELEGRAM_TOKEN')\n",
    "BOT_USERNAME = os.getenv('BOT_USERNAME')"
   ]
  },
  {
   "cell_type": "code",
   "execution_count": 12,
   "id": "2e67b075-7292-4774-b81b-d938dc7181f4",
   "metadata": {},
   "outputs": [],
   "source": [
    "# Initialize LanguageTool for grammar checking\n",
    "grammar_tool = language_tool_python.LanguageTool('en-US')\n"
   ]
  },
  {
   "cell_type": "code",
   "execution_count": 14,
   "id": "ee4d55e9-8701-420e-8ef4-f3a1e57d666b",
   "metadata": {},
   "outputs": [],
   "source": [
    "\n",
    "async def start(update: Update, context: ContextTypes.DEFAULT_TYPE):\n",
    "    logger.info(f\"Received command: {update.message.text}\")\n",
    "    \"\"\"Handle /start command\"\"\"\n",
    "    await update.message.reply_text(\"\"\"👋 Hello! I'm Qalam, your English assistant bot. I can:\\n\n",
    "📖 Correct grammar errors → Use /correct [sentence]\\n\n",
    "📚 Define words → Use /define [word]\\n\n",
    "🆘 Need help? Type /help\n",
    "\"\"\"\n",
    "       \n",
    "    )"
   ]
  },
  {
   "cell_type": "code",
   "execution_count": 15,
   "id": "604ecc89-14f1-4521-bf50-e447df8aad92",
   "metadata": {},
   "outputs": [],
   "source": [
    "async def help_command(update: Update, context: ContextTypes.DEFAULT_TYPE):\n",
    "    logger.info(f\"Received command: {update.message.text}\")\n",
    "    \"\"\"Handle /help command\"\"\"\n",
    "    help_text = (\n",
    "        \"ℹ️ **Qalam Bot Help**\\n\\n\"\n",
    "        \"/start - Start conversation\\n\"\n",
    "        \"/correct <text> - Check grammar\\n\"\n",
    "        \"/define <word> - Get word definition, examples, and synonyms\\n\"\n",
    "        \"/help - Show this help message\"\n",
    "    )\n",
    "    await update.message.reply_text(help_text, parse_mode=ParseMode.MARKDOWN)\n"
   ]
  },
  {
   "cell_type": "code",
   "execution_count": 16,
   "id": "10bad6a0-dae4-418d-b4cf-71c1ea6c6a98",
   "metadata": {},
   "outputs": [],
   "source": [
    "async def correct_grammar(update: Update, context: ContextTypes.DEFAULT_TYPE):\n",
    "    logger.info(f\"Received command: {update.message.text}\")\n",
    "    \"\"\"Handle /correct command\"\"\"\n",
    "    try:\n",
    "        text = ' '.join(context.args)\n",
    "        if not text:\n",
    "            await update.message.reply_text(\"Please provide text after /correct\")\n",
    "            return\n",
    "\n",
    "\n",
    "        matches = grammar_tool.check(text)\n",
    "        if matches:\n",
    "            corrected = grammar_tool.correct(text)\n",
    "            response = f\"📝 Corrected text:\\n{corrected}\"\n",
    "        else:\n",
    "            response = \"✅ No grammar errors found!\"\n",
    "       \n",
    "        await update.message.reply_text(response)\n",
    "    except Exception as e:\n",
    "        logger.error(f\"Grammar correction error: {e}\")\n",
    "        await update.message.reply_text(\"⚠️ Error processing your request\")\n"
   ]
  },
  {
   "cell_type": "code",
   "execution_count": 17,
   "id": "18084174-82d7-460f-9eed-719344b82273",
   "metadata": {},
   "outputs": [],
   "source": [
    "async def define_word(update: Update, context: ContextTypes.DEFAULT_TYPE):\n",
    "    logger.info(f\"Received command: {update.message.text}\")\n",
    "    \"\"\"Handle /define command with synonyms\"\"\"\n",
    "    try:\n",
    "        word = ' '.join(context.args).lower()\n",
    "        if not word:\n",
    "            await update.message.reply_text(\"Please provide a word after /define\")\n",
    "            return\n",
    "\n",
    "\n",
    "        synsets = wordnet.synsets(word)\n",
    "        if not synsets:\n",
    "            await update.message.reply_text(f\"❌ No definition found for '{word}'\")\n",
    "            return\n",
    "\n",
    "\n",
    "        # Get the first three synsets (different meanings)\n",
    "        response = f\"📚 **{word.capitalize()}**\\n\\n\"\n",
    "       \n",
    "        for i, synset in enumerate(synsets[:3], 1):\n",
    "            # Definition\n",
    "            definition = synset.definition()\n",
    "            response += f\"**Meaning {i}:** {definition}\\n\"\n",
    "           \n",
    "            # Examples\n",
    "            examples = synset.examples()[:2]\n",
    "            if examples:\n",
    "                response += f\"🔹 *Examples:*\\n- \" + \"\\n- \".join(examples) + \"\\n\"\n",
    "           \n",
    "            # Synonyms handling\n",
    "            lemmas = [lemma.name().replace('_', ' ') for lemma in synset.lemmas()]\n",
    "            unique_synonyms = list(set([lem for lem in lemmas if lem != word]))\n",
    "           \n",
    "            if unique_synonyms:\n",
    "                response += f\"🔸 *Synonyms:* {', '.join(unique_synonyms)}\\n\\n\"\n",
    "            else:\n",
    "                response += \"🔸 *No distinct synonyms found*\\n\\n\"\n",
    "       \n",
    "        await update.message.reply_text(response, parse_mode=ParseMode.MARKDOWN)\n",
    "       \n",
    "    except Exception as e:\n",
    "        logger.error(f\"Word definition error: {e}\")\n",
    "        await update.message.reply_text(\"⚠️ Error fetching word information\")\n",
    "\n"
   ]
  },
  {
   "cell_type": "code",
   "execution_count": 18,
   "id": "7f44184b-2c40-46db-ab79-1772f69f0014",
   "metadata": {},
   "outputs": [],
   "source": [
    "async def handle_message(update: Update, context: ContextTypes.DEFAULT_TYPE):\n",
    "    user_message = update.message.text.lower()  # Convert to lowercase for consistency\n",
    "    \n",
    "    if \"check grammar\" in user_message or \"correct this\" in user_message:\n",
    "        response = check_grammar(user_message)  # Call your grammar function\n",
    "        await update.message.reply_text(response)\n",
    "    else:\n",
    "        await update.message.reply_text(\"I'm not sure, sorry...\")\n"
   ]
  },
  {
   "cell_type": "code",
   "execution_count": 19,
   "id": "37b27087-294a-4498-b157-79d836ddb6e0",
   "metadata": {},
   "outputs": [],
   "source": [
    "async def error_handler(update, context):\n",
    "    try:\n",
    "        if update and update.message:\n",
    "            print(f\"Update {update} caused error: {context.error}\")\n",
    "        else:\n",
    "            print(f\"An error occurred: {context.error}\")\n",
    "    except Exception as e:\n",
    "        print(f\"Error handling the error: {e}\")\n"
   ]
  },
  {
   "cell_type": "code",
   "execution_count": 20,
   "id": "73b32109-bdf3-4cde-8b4e-420ef59fe340",
   "metadata": {},
   "outputs": [],
   "source": [
    "async def process_message(message_type: str, text: str, BOT_USERNAME: str) -> str:\n",
    "    if message_type == 'group':\n",
    "        if BOT_USERNAME in text:\n",
    "            new_text = text.replace(BOT_USERNAME, '').strip()\n",
    "            response = await handle_response(new_text)  # Await handle_response\n",
    "        else:\n",
    "            return ''  # Return empty if no bot mention\n",
    "    else:\n",
    "        response = await handle_response(text)  # Await handle_response for normal messages\n",
    "\n",
    "    return response"
   ]
  },
  {
   "cell_type": "code",
   "execution_count": 21,
   "id": "29f82528-d151-41ce-a574-075dbbc40872",
   "metadata": {},
   "outputs": [],
   "source": [
    "\n",
    "# Set bot's timezone\n",
    "timezone = pytz.timezone('Asia/Riyadh')\n",
    "dt = datetime.now(timezone)"
   ]
  },
  {
   "cell_type": "code",
   "execution_count": 22,
   "id": "7b045870-983a-4196-b378-4994402b4ca5",
   "metadata": {
    "scrolled": true
   },
   "outputs": [
    {
     "name": "stdout",
     "output_type": "stream",
     "text": [
      "bot is running..\n"
     ]
    }
   ],
   "source": [
    "\n",
    "def main():\n",
    "    \"\"\"Start the bot\"\"\"\n",
    "    try:\n",
    "        app = Application.builder().token(TOKEN).build()\n",
    "\n",
    "        # Command handlers\n",
    "        app.add_handler(CommandHandler(\"start\", start))\n",
    "        app.add_handler(CommandHandler(\"correct\", correct_grammar))\n",
    "        app.add_handler(CommandHandler(\"define\", define_word))\n",
    "        app.add_handler(CommandHandler(\"help\", help_command))\n",
    "       \n",
    "        # Message handler\n",
    "        app.add_handler(MessageHandler(filters.TEXT & ~filters.COMMAND, handle_message))\n",
    "       \n",
    "        # Error handler\n",
    "        app.add_error_handler(error_handler)\n",
    "\n",
    "        # Inform that the bot is running\n",
    "        print(\"bot is running..\")\n",
    "\n",
    "        logger.info(\"Starting Qalam bot...\")\n",
    "        app.run_polling(drop_pending_updates=True)\n",
    "       \n",
    "    except Exception as e:\n",
    "        logger.error(f\"Failed to start bot: {e}\")\n",
    "\n",
    "\n",
    "if __name__ == \"__main__\":\n",
    "    main()\n",
    "\n",
    "\n"
   ]
  },
  {
   "cell_type": "code",
   "execution_count": null,
   "id": "b3e5391e-55fb-44c1-b9a2-5bcf803865c9",
   "metadata": {},
   "outputs": [],
   "source": []
  }
 ],
 "metadata": {
  "kernelspec": {
   "display_name": "Python 3 (ipykernel)",
   "language": "python",
   "name": "python3"
  },
  "language_info": {
   "codemirror_mode": {
    "name": "ipython",
    "version": 3
   },
   "file_extension": ".py",
   "mimetype": "text/x-python",
   "name": "python",
   "nbconvert_exporter": "python",
   "pygments_lexer": "ipython3",
   "version": "3.11.7"
  }
 },
 "nbformat": 4,
 "nbformat_minor": 5
}
