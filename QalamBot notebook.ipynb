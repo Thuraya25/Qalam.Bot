{
 "cells": [
  {
   "cell_type": "markdown",
   "id": "336c0cc6-ae07-46a8-a467-95571f2ad81c",
   "metadata": {},
   "source": [
    "# Qalam - English Assistant Telegram Bot\n",
    "\n",
    "\r\n",
    "*This notebook contains the documentation and the code for the Qalam Telegram bot project. Qalam is designed to help students improve their English language skills by providing grammar correction and word definitions. It uses the `python-telegram-bot` library along with `SpaCy` and `NLTK` for natural language processing.*\r\n",
    "\r\n",
    "*In this notebook, we'll walk through the code and explain how it works step by step.*\r\n"
   ]
  },
  {
   "cell_type": "markdown",
   "id": "e9e2845a-4bfe-4c5f-ae6d-25a8a82318e1",
   "metadata": {},
   "source": [
    "**Setting Up Logging for the Bot**\n",
    "\n",
    "*In this code, we set up logging to keep track of the bot's activities and debug information. Logging is crucial for troubleshooting and monitoring the bot's behavior during execution.*"
   ]
  },
  {
   "cell_type": "code",
   "execution_count": 1,
   "id": "94f6f354-7719-49b3-bd15-3e37e671bb67",
   "metadata": {},
   "outputs": [
    {
     "name": "stderr",
     "output_type": "stream",
     "text": [
      "2025-03-23 01:09:06,632 - DEBUG - Bot has started\n"
     ]
    }
   ],
   "source": [
    "import logging\n",
    "\n",
    "# Create a logger\n",
    "logger = logging.getLogger(__name__)\n",
    "\n",
    "# Set up logging to both a file and the console\n",
    "logger.setLevel(logging.DEBUG)\n",
    "\n",
    "# Create handlers for file and console logging\n",
    "file_handler = logging.FileHandler('bot.log')\n",
    "console_handler = logging.StreamHandler()\n",
    "\n",
    "# Create formatter and add it to handlers\n",
    "formatter = logging.Formatter('%(asctime)s - %(levelname)s - %(message)s')\n",
    "file_handler.setFormatter(formatter)\n",
    "console_handler.setFormatter(formatter)\n",
    "\n",
    "# Add handlers to the logger\n",
    "logger.addHandler(file_handler)\n",
    "logger.addHandler(console_handler)\n",
    "\n",
    "# Example log message\n",
    "logger.debug(\"Bot has started\")\n",
    "\n"
   ]
  },
  {
   "cell_type": "markdown",
   "id": "e0ac4ce5-3934-4e2d-9bf4-9412537eb428",
   "metadata": {},
   "source": [
    "**Importing Necessary Libraries**\r\n",
    "\r\n",
    "*In this section, we import all the essential libraries required to run the Qalam Telegram bot. These libraries handle various tasks such as interacting with the Telegram API, processing natural language, and managing the bot's functionality. Below is a summary of the imported libraries:*\r\n",
    "\r\n",
    "1. **os**: For interacting with the operating system, such as accessing environment variables.\r\n",
    "2. **asyncio**: For asynchronous programming, enabling the bot to handle multiple tasks concurrently.\r\n",
    "3. **nest_asyncio**: To allow nested use of asyncio, ensuring compatibility with Jupyter Notebooks.\r\n",
    "4. **datetime**: To manage date and time operations.\r\n",
    "5. **dotenv**: For loading environment variables from a `.env` file to securely store sensitive informati Telegram on like AI tokens.\r\n",
    "6. **telegram**: The main library used for building and interacting with the Telegram bot.\r\n",
    "7. **language_tool_python**: A library used to check grammar and spelling mistakes in sentences.\r\n",
    "8. **nltk**: The Natural Language Toolkit (NLTK) used for text processing and analyzing words, sentences, and their structure.\r\n",
    "9. **spacy**: A powerful library for advanced natural language processing.\r\n",
    "10. **pytz**: For working with time zones.\r\n",
    "\r\n",
    "*By importing these libraries, we can build a fully functional Telegram bot capable of correcting grammar, defining words, and providing additional language learning features.*\r\n",
    "\r\n"
   ]
  },
  {
   "cell_type": "code",
   "execution_count": 2,
   "id": "652b4b2d-72d4-4d20-b990-dd82c6932c8c",
   "metadata": {},
   "outputs": [],
   "source": [
    "#import all necessary libraries \n",
    "import os\n",
    "import asyncio\n",
    "import nest_asyncio\n",
    "from datetime import datetime\n",
    "from dotenv import load_dotenv\n",
    "from telegram import Update\n",
    "from telegram.ext import Application, CommandHandler, MessageHandler, filters, ContextTypes, CallbackContext\n",
    "from telegram.constants import ParseMode\n",
    "import language_tool_python\n",
    "import nltk\n",
    "from nltk import pos_tag\n",
    "from nltk.corpus import wordnet\n",
    "from nltk.corpus import wordnet as wn\n",
    "from nltk.corpus import stopwords\n",
    "from nltk.corpus import words\n",
    "from nltk.tokenize import word_tokenize\n",
    "import pytz\n",
    "from datetime import datetime\n",
    "from telegram import Bot\n",
    "import spacy\n",
    "import signal\n",
    "import sys"
   ]
  },
  {
   "cell_type": "markdown",
   "id": "f4729e2c-9576-4ca8-84e2-8541899f1d5a",
   "metadata": {},
   "source": [
    " **Download necessary NLTK datasets for NLP tasks**\n",
    "\n",
    " 1. **punkt**: Used for tokenizing sentences and words.\n",
    " 2. **wordnet**: A lexical database for English, useful for word meanings, synonyms, and antonyms.\n",
    " 3. **omw-1.4**: Open Multilingual WordNet, which provides multilingual word mapping.\n",
    " 4. **words**: A list of English words, useful for spell-checking or filtering non-dictionary words."
   ]
  },
  {
   "cell_type": "code",
   "execution_count": 3,
   "id": "04332377-6ee6-4004-9b9a-3a4c983f126d",
   "metadata": {},
   "outputs": [
    {
     "data": {
      "text/plain": [
       "True"
      ]
     },
     "execution_count": 3,
     "metadata": {},
     "output_type": "execute_result"
    }
   ],
   "source": [
    "# Download necessary NLTK datasets for NLP tasks\n",
    "\n",
    "nltk.download(['punkt', 'wordnet', 'omw-1.4', 'words'], quiet=True)\n"
   ]
  },
  {
   "cell_type": "code",
   "execution_count": 7,
   "id": "32dfede9-859c-4115-866b-0b3a940c5f9f",
   "metadata": {},
   "outputs": [],
   "source": [
    "# Apply nest_asyncio to avoid event loop conflicts in Jupyter Notebook\n",
    "nest_asyncio.apply()"
   ]
  },
  {
   "cell_type": "code",
   "execution_count": 8,
   "id": "0185c787-e06c-4eac-8839-db8fe09ac7ec",
   "metadata": {},
   "outputs": [],
   "source": [
    "# Load environment variables\n",
    "load_dotenv()\n",
    "TOKEN = os.getenv('TELEGRAM_TOKEN')\n",
    "BOT_USERNAME = os.getenv('BOT_USERNAME')"
   ]
  },
  {
   "cell_type": "markdown",
   "id": "806f474e-8104-4227-aaeb-b6b17b17cb0c",
   "metadata": {},
   "source": [
    "**Loading and Processing Data**\n",
    "\n",
    "\n",
    "*In this section, we load the required SpaCy model and NLTK resources needed for processing text.*"
   ]
  },
  {
   "cell_type": "code",
   "execution_count": 9,
   "id": "2e67b075-7292-4774-b81b-d938dc7181f4",
   "metadata": {},
   "outputs": [],
   "source": [
    "# Initialize LanguageTool for grammar checking\n",
    "tool = language_tool_python.LanguageTool('en-US')\n"
   ]
  },
  {
   "cell_type": "code",
   "execution_count": 10,
   "id": "67bede13-21e2-4630-b62a-8cf71f87ee77",
   "metadata": {},
   "outputs": [],
   "source": [
    "# Load the spaCy English language model\n",
    "nlp = spacy.load('en_core_web_sm')"
   ]
  },
  {
   "cell_type": "markdown",
   "id": "5fd7a472-0f49-4dbc-82ef-696565be8cdc",
   "metadata": {},
   "source": [
    "**Bot Commands and Functions**\r\n",
    "\r\n",
    "*This section provides an overview of the key functions and commands used in the Qalam Telegram bot, along with their dependencies.*\r\n",
    "\r\n",
    "### **Dependencies**\r\n",
    "The following libraries and packages are used to implement the bot's functionality:\r\n",
    "\r\n",
    "- **python-telegram-bot**: For interacting with the Telegram API.\r\n",
    "- **language_tool_python**: For grammar checking and error correction.\r\n",
    "- **nltk**: For natural language processing, including word definitions from WordNet.\r\n",
    "- **spacy**: For advanced tokenization and lemmatization of words.\r\n",
    "\r\n",
    "### **Commands**\r\n",
    "\r\n",
    "1. **Start Command & Help Command**  \r\n",
    "   The `/start` command welcomes users and provides an introduction to the bot's features.\r\n",
    "\r\n",
    "   - **Function**: Sends a welcome message outlining available commands.\r\n",
    "   \r\n",
    "2. **Help Command**  \r\n",
    "   The `/help` command explains how to use the bot and lists all available commands.\r\n",
    "\r\n",
    "   - **Function**: Provides users with a guide on how to interact with the bot.\r\n",
    "\r\n",
    "   **Screenshot of the bot's reply to the `/start` command and `/help` command:**\r\n",
    "   <img src=\"images/start%20and%20help%20commands.png\" alt=\"Start Command and Help Command\" width=\"50%\" style=\"display: block; margin: 0 auto;\"/>\r\n",
    "\r\n",
    "---\r\n",
    "\r\n",
    "### **Functions**\r\n",
    "\r\n",
    "1. **Correct Grammar Function**  \r\n",
    "   The `/correct` command checks the grammar of the sentence provided by the user using the **language_tool_python** library. It suggests corrections if there are any errors in the sentence.\r\n",
    "\r\n",
    "   - **Function**: Detects grammar mistakes and sends back the corrected version of the sentence.\r\n",
    "\r\n",
    "   **Screenshot of the bot's reply to the `/correct` command:**\r\n",
    "   <img src=\"images/correct%20.png\" alt=\"Correct Grammar Function\" width=\"50%\" style=\"display: block; margin: 0 auto;\"/>\r\n",
    "\r\n",
    "2. **Define Word Function**  \r\n",
    "   The `/define` command retrieves the definition, part of speech, and example usage of a word using the **nltk.wordnet** corpus and **spacy** for tokenization and lemmatization. SpaCy helps by processing the word, making the definition more precise.\r\n",
    "\r\n",
    "   - **Function**: \r\n",
    "     - Fetches and displays the word's definition and usage examples from **WordNet**.\r\n",
    "     - Uses **SpaCy** to process and lemmatize the word, and identify its part of speech, ensuring more accurate results and better handling of variations in word forms.\r\n",
    "\r\n",
    "   **Screenshot of the bot's reply to the `/define` command:**\r\n",
    "   <img src=\"images/define%20.png\" alt=\"Define Function\" width=\"50%\" style=\"display: block; margin: 0 auto;\"/>\r\n",
    "\r\n",
    "*These functions are essential for providing language learning assistance and enhancing the user experience by offering grammar checks and word definitions directly through Telegram.*\r\n",
    "checks and word definitions directly through Telegram.*\r\n"
   ]
  },
  {
   "cell_type": "code",
   "execution_count": 11,
   "id": "ee4d55e9-8701-420e-8ef4-f3a1e57d666b",
   "metadata": {},
   "outputs": [],
   "source": [
    "# Handle the /start command by sending a welcome message\n",
    "\n",
    "async def start(update: Update, context: ContextTypes.DEFAULT_TYPE):\n",
    "    logger.info(f\"Received command: {update.message.text}\")\n",
    "    \"\"\"Handle /start command\"\"\"\n",
    "    await update.message.reply_text(\"\"\"👋 Hello! I'm Qalam, your English assistant bot. I can:\\n\n",
    "📖 Correct grammar errors → Use /correct [sentence]\\n\n",
    "📚 Define words → Use /define [word]\\n\n",
    "🆘 Need help? Type /help\n",
    "\"\"\"\n",
    "       \n",
    "    )"
   ]
  },
  {
   "cell_type": "code",
   "execution_count": 12,
   "id": "604ecc89-14f1-4521-bf50-e447df8aad92",
   "metadata": {},
   "outputs": [],
   "source": [
    "# Handle the /help command by providing usage instructions\n",
    "\n",
    "async def help_command(update: Update, context: ContextTypes.DEFAULT_TYPE):\n",
    "    logger.info(f\"Received command: {update.message.text}\")\n",
    "    \"\"\"Handle /help command\"\"\"\n",
    "    help_text = (\n",
    "        \"ℹ️ **Qalam Bot Help**\\n\\n\"\n",
    "        \"/start - Start conversation\\n\"\n",
    "        \"/correct <text> - Check grammar\\n\"\n",
    "        \"/define <word> - Get word definition, examples, and synonyms\\n\"\n",
    "        \"/help - Show this help message\"\n",
    "    )\n",
    "    await update.message.reply_text(help_text, parse_mode=ParseMode.MARKDOWN)\n"
   ]
  },
  {
   "cell_type": "code",
   "execution_count": 14,
   "id": "10bad6a0-dae4-418d-b4cf-71c1ea6c6a98",
   "metadata": {},
   "outputs": [],
   "source": [
    "# Handle the /correct command to identify and suggest corrections for grammar mistakes\n",
    "\n",
    "async def correct_grammar(update: Update, context: CallbackContext):\n",
    "    \"\"\"Handle the /correct command by correcting grammar and giving feedback.\"\"\"\n",
    "    if not context.args:\n",
    "        await update.message.reply_text(\"Please provide a sentence: /correct [your sentence]\")\n",
    "        return\n",
    "\n",
    "    # Get the user's input sentence\n",
    "    user_sentence = \" \".join(context.args)\n",
    "\n",
    "    # Analyze grammar mistakes\n",
    "    matches = tool.check(user_sentence)\n",
    "    corrected_sentence = tool.correct(user_sentence)\n",
    "\n",
    "    # Construct response message\n",
    "    response = \"📝 **Grammar Check Report:**\\n\\n\"\n",
    "\n",
    "    if not matches:\n",
    "        response += \"✅ No grammar mistakes found!\\n\\n\"\n",
    "    else:\n",
    "        for match in matches:\n",
    "            incorrect_text = match.context  # Context of the incorrect phrase\n",
    "            suggestion = match.replacements[0] if match.replacements else \"No suggestion available\"\n",
    "            \n",
    "            response += f\"🔸 **Error:** {match.message}\\n\\n\"\n",
    "            response += f\"  ✏️ **Incorrect Phrase:** `{incorrect_text}`\\n\"\n",
    "            response += f\"  ✅ **Suggested Correction:** `{suggestion}`\\n\\n\"\n",
    "\n",
    "    # Send the corrected sentence\n",
    "    response += f\"✅ **Final Correction:** `{corrected_sentence}`\"\n",
    "\n",
    "    await update.message.reply_text(response, parse_mode=\"Markdown\")"
   ]
  },
  {
   "cell_type": "code",
   "execution_count": 15,
   "id": "18084174-82d7-460f-9eed-719344b82273",
   "metadata": {},
   "outputs": [],
   "source": [
    "# Handle the /define command to provide word definitions,synonyms, POS tagging and examples\n",
    "\n",
    "async def define_word(update: Update, context: ContextTypes.DEFAULT_TYPE):\n",
    "    logger.info(f\"Received command: {update.message.text}\")\n",
    "    \"\"\"Handle /define command with synonyms and POS tagging\"\"\"\n",
    "    try:\n",
    "        word = ' '.join(context.args).lower()\n",
    "        if not word:\n",
    "            await update.message.reply_text(\"Please provide a word after /define\")\n",
    "            return\n",
    "\n",
    "        # Get WordNet synsets\n",
    "        synsets = wordnet.synsets(word)\n",
    "        if not synsets:\n",
    "            await update.message.reply_text(f\"❌ No definition found for '{word}'\")\n",
    "            return\n",
    "\n",
    "        # Use spaCy for POS tagging\n",
    "        doc = nlp(word)\n",
    "        pos_tag = doc[0].pos_\n",
    "\n",
    "        # Start forming the response\n",
    "        response = f\"📚 **{word.capitalize()}**\\n\\n\"\n",
    "        response += f\"🔸 *Part of Speech:* {pos_tag}\\n\\n\"\n",
    "       \n",
    "        # Get the first three synsets (different meanings)\n",
    "        for i, synset in enumerate(synsets[:3], 1):\n",
    "            # Definition\n",
    "            definition = synset.definition()\n",
    "            response += f\"**Meaning {i}:** {definition}\\n\"\n",
    "           \n",
    "            # Examples\n",
    "            examples = synset.examples()[:2]\n",
    "            if examples:\n",
    "                response += f\"🔹 *Examples:*\\n- \" + \"\\n- \".join(examples) + \"\\n\"\n",
    "           \n",
    "            # Synonyms handling\n",
    "            lemmas = [lemma.name().replace('_', ' ') for lemma in synset.lemmas()]\n",
    "            unique_synonyms = list(set([lem for lem in lemmas if lem != word]))\n",
    "           \n",
    "            if unique_synonyms:\n",
    "                response += f\"🔸 *Synonyms:* {', '.join(unique_synonyms)}\\n\\n\"\n",
    "            else:\n",
    "                response += \"🔸 *No distinct synonyms found*\\n\\n\"\n",
    "       \n",
    "        # Send the response\n",
    "        await update.message.reply_text(response, parse_mode=ParseMode.MARKDOWN)\n",
    "       \n",
    "    except Exception as e:\n",
    "        logger.error(f\"Word definition error: {e}\")\n",
    "        await update.message.reply_text(\"⚠️ Error fetching word information\")"
   ]
  },
  {
   "cell_type": "code",
   "execution_count": 16,
   "id": "7f44184b-2c40-46db-ab79-1772f69f0014",
   "metadata": {},
   "outputs": [],
   "source": [
    "# Handle text messages that are not commands\n",
    "\n",
    "async def handle_message(update: Update, context: ContextTypes.DEFAULT_TYPE):\n",
    "    user_message = update.message.text.lower()  # Convert to lowercase for consistency\n",
    "    \n",
    "    if \"check grammar\" in user_message or \"correct this\" in user_message:\n",
    "        response = check_grammar(user_message)  # Call your grammar function\n",
    "        await update.message.reply_text(response)\n",
    "    else:\n",
    "        await update.message.reply_text(\"I'm not sure, sorry...\")\n"
   ]
  },
  {
   "cell_type": "code",
   "execution_count": 17,
   "id": "37b27087-294a-4498-b157-79d836ddb6e0",
   "metadata": {},
   "outputs": [],
   "source": [
    "# Handle errors that occur during the bot's execution\n",
    "\n",
    "async def error_handler(update, context):\n",
    "    try:\n",
    "        if update and update.message:\n",
    "            print(f\"Update {update} caused error: {context.error}\")\n",
    "        else:\n",
    "            print(f\"An error occurred: {context.error}\")\n",
    "    except Exception as e:\n",
    "        print(f\"Error handling the error: {e}\")\n"
   ]
  },
  {
   "cell_type": "code",
   "execution_count": 18,
   "id": "73b32109-bdf3-4cde-8b4e-420ef59fe340",
   "metadata": {},
   "outputs": [],
   "source": [
    "# This function handles incoming messages based on whether the bot is mentioned in a group chat or if it's a direct message.\n",
    "\n",
    "async def process_message(message_type: str, text: str, BOT_USERNAME: str) -> str:\n",
    "    if message_type == 'group':\n",
    "        if BOT_USERNAME in text:\n",
    "            new_text = text.replace(BOT_USERNAME, '').strip()\n",
    "            response = await handle_response(new_text)  # Await handle_response\n",
    "        else:\n",
    "            return ''  # Return empty if no bot mention\n",
    "    else:\n",
    "        response = await handle_response(text)  # Await handle_response for normal messages\n",
    "\n",
    "    return response"
   ]
  },
  {
   "cell_type": "code",
   "execution_count": 19,
   "id": "29f82528-d151-41ce-a574-075dbbc40872",
   "metadata": {},
   "outputs": [],
   "source": [
    "# Set bot's timezone\n",
    "timezone = pytz.timezone('Asia/Riyadh')\n",
    "dt = datetime.now(timezone)"
   ]
  },
  {
   "cell_type": "markdown",
   "id": "b1899d43-9fc6-4a92-9215-aa261de2720d",
   "metadata": {},
   "source": [
    "## **Main Function: Bot Initialization and Execution**\r\n",
    "\r\n",
    "*This section explains the main function of the Qalam Telegram bot. It serves as the entry point to start and run the bot, handling the bot's lifecycle, including command handling, error management, and logging.*\r\n",
    "\r\n",
    "### **Function Overview**\r\n",
    "The `main` function is the core function that runs the bot. It initializes the bot, sets up command and message handlers, and starts the bot's polling mechanism to listen for updates. It also manages error handling and logging.\r\n"
   ]
  },
  {
   "cell_type": "code",
   "execution_count": 20,
   "id": "7b045870-983a-4196-b378-4994402b4ca5",
   "metadata": {
    "scrolled": true
   },
   "outputs": [
    {
     "name": "stderr",
     "output_type": "stream",
     "text": [
      "2025-03-23 01:09:19,432 - INFO - Starting Qalam bot...\n",
      "Starting Qalam bot...\n"
     ]
    },
    {
     "name": "stdout",
     "output_type": "stream",
     "text": [
      "bot is running..\n",
      "An error occurred: Conflict: terminated by other getUpdates request; make sure that only one bot instance is running\n",
      "An error occurred: Conflict: terminated by other getUpdates request; make sure that only one bot instance is running\n",
      "An error occurred: Conflict: terminated by other getUpdates request; make sure that only one bot instance is running\n",
      "An error occurred: Conflict: terminated by other getUpdates request; make sure that only one bot instance is running\n",
      "An error occurred: Conflict: terminated by other getUpdates request; make sure that only one bot instance is running\n",
      "An error occurred: Conflict: terminated by other getUpdates request; make sure that only one bot instance is running\n",
      "An error occurred: Conflict: terminated by other getUpdates request; make sure that only one bot instance is running\n",
      "An error occurred: Conflict: terminated by other getUpdates request; make sure that only one bot instance is running\n"
     ]
    }
   ],
   "source": [
    "# main function\n",
    "# This function serves as the entry point for running the bot. \n",
    "\n",
    "async def main():\n",
    "    \"\"\"Start the bot\"\"\"\n",
    "    try:\n",
    "        # Initialize the bot\n",
    "        app = Application.builder().token(TOKEN).build()\n",
    "\n",
    "        # Command handlers\n",
    "        app.add_handler(CommandHandler(\"start\", start))\n",
    "        app.add_handler(CommandHandler(\"correct\", correct_grammar))\n",
    "        app.add_handler(CommandHandler(\"define\", define_word))\n",
    "        app.add_handler(CommandHandler(\"help\", help_command))\n",
    "        \n",
    "        # Message handler\n",
    "        app.add_handler(MessageHandler(filters.TEXT & ~filters.COMMAND, handle_message))\n",
    "        \n",
    "        # Error handler\n",
    "        app.add_error_handler(error_handler)\n",
    "\n",
    "        # Inform that the bot is running\n",
    "        print(\"bot is running..\")\n",
    "        logger.info(\"Starting Qalam bot...\")\n",
    "        \n",
    "        # Run the bot\n",
    "        await app.run_polling(drop_pending_updates=True)\n",
    "    \n",
    "    except Exception as e:\n",
    "        logger.error(f\"Error in starting bot: {e}\")\n",
    "\n",
    "# Entry point to run the bot\n",
    "if __name__ == \"__main__\":\n",
    "    try:\n",
    "        loop = asyncio.get_event_loop()\n",
    "        if loop.is_running():\n",
    "            loop.create_task(main())  # Works in Jupyter Notebook\n",
    "        else:\n",
    "            loop.run_until_complete(main())  # Standard script execution\n",
    "    except KeyboardInterrupt:\n",
    "        print(\"Shutting down the bot...\")"
   ]
  },
  {
   "cell_type": "markdown",
   "id": "0843afb1-df49-41f5-a9ce-64f427613eca",
   "metadata": {},
   "source": [
    "\n",
    "___\n",
    "## **Future Improvements**\n",
    "\n",
    "- *Multilingual Support*: *We plan to add support for multiple languages, including Arabic, in future versions.*  \n",
    "- *Advanced Grammar Checking*: *Integrate more sophisticated grammar-checking models or APIs for better accuracy.*  \n",
    "- *User Feedback*: *Implement a feedback system to help improve the bot's suggestions over time.*\n"
   ]
  },
  {
   "cell_type": "markdown",
   "id": "a06c94c3-9d8c-4e94-822c-c14aa7fc5168",
   "metadata": {},
   "source": [
    "## **Conclusion**\r\n",
    "\r\n",
    "*This notebook provides an overview of the Qalam Telegram bot project. The bot leverages natural language processing techniques to help students with grammar and vocabulary. By following the steps outlined in this notebook, you can run and customize the bot to fit your own needs.*  \r\n",
    "\r\n",
    "*Feel free to reach out with any questions or suggestions!*\r\n"
   ]
  },
  {
   "cell_type": "code",
   "execution_count": null,
   "id": "17474744-9a99-42f7-8891-53f5be216955",
   "metadata": {},
   "outputs": [],
   "source": []
  }
 ],
 "metadata": {
  "kernelspec": {
   "display_name": "Python (qalam-env)",
   "language": "python",
   "name": "qalam-env"
  },
  "language_info": {
   "codemirror_mode": {
    "name": "ipython",
    "version": 3
   },
   "file_extension": ".py",
   "mimetype": "text/x-python",
   "name": "python",
   "nbconvert_exporter": "python",
   "pygments_lexer": "ipython3",
   "version": "3.9.21"
  }
 },
 "nbformat": 4,
 "nbformat_minor": 5
}
